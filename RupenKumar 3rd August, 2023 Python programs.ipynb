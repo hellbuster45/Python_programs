{
 "cells": [
  {
   "cell_type": "code",
   "execution_count": 2,
   "id": "da4d7271",
   "metadata": {
    "scrolled": true
   },
   "outputs": [
    {
     "name": "stdout",
     "output_type": "stream",
     "text": [
      "Hello to python Programming\n"
     ]
    }
   ],
   "source": [
    "#Question 1\n",
    "print(\"Hello to python Programming\")"
   ]
  },
  {
   "cell_type": "code",
   "execution_count": 7,
   "id": "f68c39be",
   "metadata": {},
   "outputs": [
    {
     "name": "stdout",
     "output_type": "stream",
     "text": [
      "Enter first integer: 3\n",
      "Enter second integer: 2\n",
      "5\n",
      "1\n",
      "6\n",
      "1.5\n",
      "1\n"
     ]
    }
   ],
   "source": [
    "#Question 2\n",
    "x = int(input(\"Enter first integer: \"))\n",
    "y = int(input(\"Enter second integer: \"))\n",
    "print(x+y)\n",
    "print(x-y)\n",
    "print(x*y)\n",
    "print(x/y)\n",
    "print(x%y)"
   ]
  },
  {
   "cell_type": "code",
   "execution_count": 17,
   "id": "e3509ba3",
   "metadata": {},
   "outputs": [
    {
     "name": "stdout",
     "output_type": "stream",
     "text": [
      "Enter marks for three subjects seperated by commas: 70,80,90\n",
      "The average of the three subjects is:  80.0\n"
     ]
    }
   ],
   "source": [
    "#Question 3\n",
    "x1,x2,x3 = eval(input(\"Enter marks for three subjects seperated by commas: \"))\n",
    "print(\"The average of the three subjects is: \", (x1+x2+x3)/3)"
   ]
  },
  {
   "cell_type": "code",
   "execution_count": 18,
   "id": "e5fbf626",
   "metadata": {},
   "outputs": [
    {
     "name": "stdout",
     "output_type": "stream",
     "text": [
      "Enter length for three sides of the prism: 4,5,6\n",
      "Surface area of the prism is:  148\n"
     ]
    }
   ],
   "source": [
    "#Question 4\n",
    "x1,x2,x3 = eval(input(\"Enter length for three sides of the prism: \"))\n",
    "print(\"Surface area of the prism is: \", (2*(x1*x2) + 2*(x2*x3) + 2*(x3*x1)))"
   ]
  },
  {
   "cell_type": "code",
   "execution_count": 19,
   "id": "a02bc92a",
   "metadata": {},
   "outputs": [
    {
     "name": "stdout",
     "output_type": "stream",
     "text": [
      "Speed of the plane is:  43.888888888888886\n"
     ]
    }
   ],
   "source": [
    "#Question 5\n",
    "print(\"Speed of the plane is: \", 395000/9000)"
   ]
  },
  {
   "cell_type": "code",
   "execution_count": 22,
   "id": "bd44e8be",
   "metadata": {},
   "outputs": [
    {
     "name": "stdout",
     "output_type": "stream",
     "text": [
      "Time taken to empty the pool is:  9.882352941176471 hrs\n"
     ]
    }
   ],
   "source": [
    "#Question 6\n",
    "volume = 12*7*2\n",
    "time = 17 #cubic meters in an hour\n",
    "print(\"Time taken to empty the pool is: \", volume/time,\"hrs\")"
   ]
  },
  {
   "cell_type": "code",
   "execution_count": 24,
   "id": "a3186fa4",
   "metadata": {},
   "outputs": [
    {
     "name": "stdout",
     "output_type": "stream",
     "text": [
      "Enter temperature in celsius: 37.8\n",
      "Temperature in farenheit is:  100.03999999999999 degrees\n"
     ]
    }
   ],
   "source": [
    "#Question 7\n",
    "x = eval(input(\"Enter temperature in celsius: \"))\n",
    "print(\"Temperature in farenheit is: \", (x * (9/5)) + 32, \"degrees\")"
   ]
  },
  {
   "cell_type": "code",
   "execution_count": 25,
   "id": "e5db0c80",
   "metadata": {},
   "outputs": [
    {
     "name": "stdout",
     "output_type": "stream",
     "text": [
      "Acceleration of the car is:  0.5 m/sec\n"
     ]
    }
   ],
   "source": [
    "#Question 8\n",
    "Vfinal = 10 #m/sec\n",
    "Vinitial = 0 #m/sec\n",
    "print(\"Acceleration of the car is: \", (10-0)/20, \"m/sec\")"
   ]
  },
  {
   "cell_type": "code",
   "execution_count": 28,
   "id": "6cafbbec",
   "metadata": {},
   "outputs": [
    {
     "name": "stdout",
     "output_type": "stream",
     "text": [
      "Enter name: Rupen\n",
      "Enter roll no.: 2\n",
      "Enter age: 19\n",
      "Enter physics marks: 69\n",
      "Enter chemistry marks: 70\n",
      "Enter maths marks: 71\n",
      "Name:  Rupen\n",
      "Roll No.:  2\n",
      "Age:  19\n",
      "Physics:  69\n",
      "Chemistry 70\n",
      "Maths 71\n",
      "Total:  210 Average:  70.0\n"
     ]
    }
   ],
   "source": [
    "#Question 9\n",
    "name = input(\"Enter name: \")\n",
    "roll = input(\"Enter roll no.: \")\n",
    "age = int(input(\"Enter age: \"))\n",
    "Pmarks = eval(input(\"Enter physics marks: \"))\n",
    "Cmarks = eval(input(\"Enter chemistry marks: \"))\n",
    "Mmarks = eval(input(\"Enter maths marks: \"))\n",
    "print(\"Name: \", name)\n",
    "print(\"Roll No.: \", roll)\n",
    "print(\"Age: \", age)\n",
    "print(\"Physics: \", Pmarks)\n",
    "print(\"Chemistry\", Cmarks)\n",
    "print(\"Maths\", Mmarks)\n",
    "print(\"Total: \", (Pmarks + Cmarks + Mmarks), \"Average: \", (Pmarks + Cmarks + Mmarks)/3)"
   ]
  },
  {
   "cell_type": "code",
   "execution_count": 33,
   "id": "941d7b27",
   "metadata": {},
   "outputs": [
    {
     "name": "stdout",
     "output_type": "stream",
     "text": [
      "Enter employee name: Rupen\n",
      "Enter email ID: rupen@gmail.com\n",
      "Enter designation: Student\n",
      "Enter empoyee code: 45002\n",
      "Enter employee salary: 69000\n",
      "**************Birla Institute of Technology*****************\n",
      "\n",
      "\n",
      "Name:  Rupen \t empCode:  45002 \t Designation:  Student \n",
      " Salary:  69000 \t email ID:  rupen@gmail.com\n",
      "\n",
      "\n",
      "PF:  8280.0 \t DA:  12420.0 \t HRA:  6900.0 \n",
      " IT:  6210.0 \t Netpay:  73830.0\n"
     ]
    }
   ],
   "source": [
    "#Question 10\n",
    "eName = input(\"Enter employee name: \")\n",
    "email = input(\"Enter email ID: \")\n",
    "design = input(\"Enter designation: \")\n",
    "code = input(\"Enter empoyee code: \")\n",
    "salary = eval(input(\"Enter employee salary: \"))\n",
    "\n",
    "PF = (12*salary)/100\n",
    "DA = (18*salary)/100\n",
    "HRA = (10*salary)/100\n",
    "IT = (9*salary)/100\n",
    "NetPay = salary + DA + HRA - (PF + IT)\n",
    "\n",
    "print(\"**************Birla Institute of Technology*****************\\n\\n\")\n",
    "print(\"Name: \", name, \"\\t empCode: \", code, \"\\t Designation: \", design, \"\\n Salary: \", salary, \"\\t email ID: \", email)\n",
    "print(\"\\n\\nPF: \", PF, \"\\t DA: \", DA, \"\\t HRA: \", HRA, \"\\n IT: \", IT, \"\\t Netpay: \", NetPay)"
   ]
  },
  {
   "cell_type": "code",
   "execution_count": 37,
   "id": "d1df789d",
   "metadata": {},
   "outputs": [
    {
     "name": "stdout",
     "output_type": "stream",
     "text": [
      "1\n",
      "69\n",
      "69\n",
      "8\n"
     ]
    }
   ],
   "source": [
    "#Math built-in function(built in functions do not need importing of a module)\n",
    "x = -1\n",
    "print(abs(x))\n",
    "\n",
    "print(max(69, 34,1))\n",
    "\n",
    "print(min(69, 70, 71))\n",
    "\n",
    "print(pow(2,3))"
   ]
  },
  {
   "cell_type": "code",
   "execution_count": 14,
   "id": "a693c552",
   "metadata": {},
   "outputs": [
    {
     "name": "stdout",
     "output_type": "stream",
     "text": [
      "2.0\n",
      "3\n",
      "2\n",
      "2.718281828459045\n",
      "0.999896315728952\n",
      "3.0\n",
      "4.0\n",
      "-0.9880316240928618\n",
      "0.03333950926130209\n",
      "59.99999999999999\n",
      "6.283185307179586\n"
     ]
    }
   ],
   "source": [
    "#Math functions using math module\n",
    "import math as m\n",
    "\n",
    "print(m.fabs(-2))\n",
    "\n",
    "print(m.ceil(2.1))\n",
    "\n",
    "print(m.floor(2.9))\n",
    "\n",
    "print(m.exp(1))\n",
    "\n",
    "print(m.log(2.718))\n",
    "\n",
    "print(m.log(8,2))\n",
    "\n",
    "print(m.sqrt(16))\n",
    "\n",
    "print(m.sin(30))\n",
    "\n",
    "print(m.asin(1/30))\n",
    "\n",
    "print(m.degrees(m.pi/3))\n",
    "\n",
    "print(m.radians(360))"
   ]
  },
  {
   "cell_type": "code",
   "execution_count": 4,
   "id": "794f1b96",
   "metadata": {},
   "outputs": [
    {
     "name": "stdout",
     "output_type": "stream",
     "text": [
      "A\n"
     ]
    }
   ],
   "source": [
    "#Question 9\n",
    "import random as r\n",
    "x = r.random()\n",
    "\n",
    "if x >= 0.9:\n",
    "    print('A')\n",
    "elif x >= 0.8:\n",
    "    print('B')\n",
    "elif x >= 0.7:\n",
    "    print('C')\n",
    "elif x >= 0.6:\n",
    "    print('D')\n",
    "else:\n",
    "    print('F')    "
   ]
  },
  {
   "cell_type": "code",
   "execution_count": 8,
   "id": "f4190380",
   "metadata": {},
   "outputs": [
    {
     "name": "stdout",
     "output_type": "stream",
     "text": [
      "Enter any three numbers seperated by commas: 9,8,7\n",
      "9 is the maximum\n"
     ]
    }
   ],
   "source": [
    "#Question 10\n",
    "\n",
    "x,y,z = eval(input('Enter any three numbers seperated by commas: '))\n",
    "\n",
    "if x > y:\n",
    "    if x > z:\n",
    "        print(x, 'is the maximum')\n",
    "    else:\n",
    "        print(z, 'is the maximum')\n",
    "else:\n",
    "    if y > z:\n",
    "        print(y, 'is the maximum')\n",
    "    else:\n",
    "        print(z, 'is the maximum')\n",
    "        "
   ]
  },
  {
   "cell_type": "code",
   "execution_count": 22,
   "id": "00fba572",
   "metadata": {},
   "outputs": [
    {
     "name": "stdout",
     "output_type": "stream",
     "text": [
      "76\n",
      "67\n",
      "Enter any two digit number: 11\n",
      "You won nothing!!\n"
     ]
    }
   ],
   "source": [
    "#Question 11\n",
    "\n",
    "lott_number = int(r.randrange(10,100))\n",
    "print(lott_number)\n",
    "\n",
    "fir_dig = m.floor(lott_number / 10)\n",
    "sec_dig = lott_number - (fir_dig * 10)\n",
    "\n",
    "rev_num = (sec_dig * 10) + fir_dig\n",
    "print(rev_num)\n",
    "\n",
    "u_input = int(input('Enter any two digit number: '))\n",
    "\n",
    "if u_input == lott_number:\n",
    "    print('You won $10000!!')\n",
    "elif u_input == rev_num:\n",
    "    print('You won $3000!!')\n",
    "elif (m.floor(u_input / 10) == fir_dig) or (m.floor(u_input / 10) == sec_dig):\n",
    "    print('You won $1000!!')\n",
    "else:\n",
    "    print('You won nothing!!')"
   ]
  },
  {
   "cell_type": "code",
   "execution_count": 25,
   "id": "7bbc8894",
   "metadata": {},
   "outputs": [
    {
     "name": "stdout",
     "output_type": "stream",
     "text": [
      "Enter any year: 2010\n",
      "Year is not a leap year!\n"
     ]
    }
   ],
   "source": [
    "#Question 12\n",
    "\n",
    "year = int(input('Enter any year: '))\n",
    "\n",
    "if year % 4 == 0:\n",
    "    print('Year is leap year!')\n",
    "else:\n",
    "    print('Year is not a leap year!')"
   ]
  },
  {
   "cell_type": "code",
   "execution_count": 29,
   "id": "b592537f",
   "metadata": {},
   "outputs": [
    {
     "name": "stdout",
     "output_type": "stream",
     "text": [
      "Enter any four digit integer: 1234\n",
      "Reverse number is:  4321\n"
     ]
    }
   ],
   "source": [
    "#Question 14\n",
    "\n",
    "num = int(input('Enter any four digit integer: '))\n",
    "div = 1000\n",
    "rem = 0\n",
    "rev = 0\n",
    "i = 1\n",
    "\n",
    "while div != 0:\n",
    "    rem = num // div\n",
    "    num = num - (rem * div)\n",
    "    rev = rev + (rem * i)\n",
    "    div = div // 10\n",
    "    i = i * 10\n",
    "print('Reverse number is: ', rev)"
   ]
  },
  {
   "cell_type": "code",
   "execution_count": null,
   "id": "f90d81f1",
   "metadata": {},
   "outputs": [],
   "source": [
    "#Question 15\n",
    "\n",
    "num = int(input('Enter any integer: '))"
   ]
  }
 ],
 "metadata": {
  "kernelspec": {
   "display_name": "Python 3 (ipykernel)",
   "language": "python",
   "name": "python3"
  },
  "language_info": {
   "codemirror_mode": {
    "name": "ipython",
    "version": 3
   },
   "file_extension": ".py",
   "mimetype": "text/x-python",
   "name": "python",
   "nbconvert_exporter": "python",
   "pygments_lexer": "ipython3",
   "version": "3.9.12"
  }
 },
 "nbformat": 4,
 "nbformat_minor": 5
}
